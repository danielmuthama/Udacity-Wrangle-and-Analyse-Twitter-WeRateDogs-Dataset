{
 "cells": [
  {
   "cell_type": "markdown",
   "id": "1278d96a",
   "metadata": {},
   "source": [
    "### Analysis of Twitter dataset WeRateDogs"
   ]
  },
  {
   "cell_type": "markdown",
   "id": "c43b0f62",
   "metadata": {},
   "source": [
    "#### Introduction"
   ]
  },
  {
   "cell_type": "markdown",
   "id": "dadd19b0",
   "metadata": {},
   "source": [
    "Real-world data rarely comes clean. Using Python and its libraries, you will gather data from a variety of sources and in a variety of formats, assess its quality and tidiness, then clean it. This is called data wrangling. You will document your wrangling efforts in a Jupyter Notebook, plus showcase them through analyses and visualizations using Python (and its libraries) and/or SQL.\n",
    "\n",
    "#### Brief Introduction\n",
    "Wondering how dogs are been rated and why some seem to be rank top above others? With this analysis we hope to share insightful visuals of the how and why to satisfy your curiosity. We will be using the WeRateDogs dataset from the @dog_rates from twitter to help you understand this better. The dataset contains over 5000+ tweets about weRateDog as at August 1, 2017, for the sake of availability of data we will stop at that for now. This twitter handle has over 4million follower and have received international media coverage hence the data is sort sampled correctly. These ratings almost always have a denominator of 10. The numerators, though? Almost always greater than 10. 11/10, 12/10, 13/10, etc. Why? Because \"they're good dogs Brent.\". This archive contains basic tweet data (tweet ID, timestamp, text, etc.) for all 5000+ of their tweets as they stood on August 1, 2017. Some of the questions we seek to answer are which breed of dogs have the highest rating and some reasons why we feel they do have that rating?\n",
    "\n"
   ]
  },
  {
   "cell_type": "markdown",
   "id": "e0682ffa",
   "metadata": {},
   "source": [
    "#### Report"
   ]
  },
  {
   "cell_type": "markdown",
   "id": "8d6f8565",
   "metadata": {},
   "source": [
    "After cleaning we discovered some good insights which include:A picture of a randomly selected dog breed with the highest\n",
    "rating. We could see this also that the picture shows a celar image of a dog well snaped with beautiful flower on the head.\n",
    "This may have contributed to it been ranked top.\n"
   ]
  },
  {
   "cell_type": "markdown",
   "id": "875240f0",
   "metadata": {},
   "source": [
    "#### Findings"
   ]
  },
  {
   "cell_type": "markdown",
   "id": "a145dd8b",
   "metadata": {},
   "source": [
    "From the Histogram illustrated in wrangle.ipyb file showing top ten Dog breed as per rating. We discover that the golden retriever has the highest rating followed by the Labrador retriever. It is also worthy to note that the rating is not based on the retweet count nor the favourite count. We see this in the two bar charts below, one would have expected that the retweet count and favouite count would have contributed but we saw that it didn’t."
   ]
  }
 ],
 "metadata": {
  "kernelspec": {
   "display_name": "Python 3 (ipykernel)",
   "language": "python",
   "name": "python3"
  },
  "language_info": {
   "codemirror_mode": {
    "name": "ipython",
    "version": 3
   },
   "file_extension": ".py",
   "mimetype": "text/x-python",
   "name": "python",
   "nbconvert_exporter": "python",
   "pygments_lexer": "ipython3",
   "version": "3.7.2rc1"
  }
 },
 "nbformat": 4,
 "nbformat_minor": 5
}
